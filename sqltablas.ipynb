{
 "cells": [
  {
   "cell_type": "markdown",
   "metadata": {},
   "source": [
    "TABLA 1\n",
    "\n",
    "ID ALUMNA(PK) | NOMBRE | APELLIDOS |  CIUDAD   | PAIS\n",
    "\n",
    "1              CRISTINA    MARIN      CUENCA     ESPAÑA\n",
    "2              MARTA       LOPEZ      TOLEDO     ESPAÑA \n",
    "3              ROCIO       PEREZ      NANTES     FRANCIA\n",
    "4              ELENA       RODRIGUEZ  MONTERREY  MEXICO   \n",
    "\n",
    "\n",
    "TABLA 2\n",
    "ID ASIGNATURA(PK) | ID ALUMNA(FK) |NOMBRE ASIGNATURA | NOTA\n",
    "\n",
    "        101               1           BBDD               8   \n",
    "        101               2           BBDD               7\n",
    "        101               3           BBDD              10      \n",
    "        101               4           BBDD              10\n",
    "        102               1           EXTRACCION         9\n",
    "        102               3           EXTRACCION         7\n",
    "        102               4           EXTRACCION         9\n",
    "        103               1           LIMPIEZA           8\n",
    "        103               2           LIMPIEZA           9\n",
    "        103               4           LIMPIEZA           7    \n",
    "\n",
    "TABLA 3\n",
    "\n",
    "ID ASIGNATURA(PK) | ID ALUMNA(FK) | NOTA\n",
    "\n",
    "        101               1            8   \n",
    "        101               2            7\n",
    "        101               3           10      \n",
    "        101               4           10\n",
    "        102               1            9\n",
    "        102               3            7\n",
    "        102               4            9\n",
    "        103               1            8\n",
    "        103               2            9\n",
    "        103               4            7           \n",
    "\n",
    "\n"
   ]
  }
 ],
 "metadata": {
  "kernelspec": {
   "display_name": "base",
   "language": "python",
   "name": "python3"
  },
  "language_info": {
   "name": "python",
   "version": "3.9.7"
  }
 },
 "nbformat": 4,
 "nbformat_minor": 2
}
