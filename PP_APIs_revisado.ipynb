{
 "cells": [
  {
   "cell_type": "code",
   "execution_count": null,
   "metadata": {},
   "outputs": [],
   "source": [
    "import requests"
   ]
  },
  {
   "cell_type": "code",
   "execution_count": null,
   "metadata": {},
   "outputs": [],
   "source": [
    "import pandas as pd"
   ]
  },
  {
   "cell_type": "markdown",
   "metadata": {},
   "source": [
    "Ejercicio 1"
   ]
  },
  {
   "cell_type": "code",
   "execution_count": null,
   "metadata": {},
   "outputs": [],
   "source": [
    "#tipo_energia\n",
    "#tipo_generacion\n",
    "#fecha\n",
    "#valor\n",
    "#iterar included por clave [\"type\"]"
   ]
  },
  {
   "cell_type": "code",
   "execution_count": null,
   "metadata": {},
   "outputs": [],
   "source": [
    "dicc_red_anual = []\n",
    "for year in range(2011,2023):\n",
    "    \n",
    "    url =f\"https://apidatos.ree.es/es/datos/generacion/estructura-generacion?start_date={year}-01-01T00:00&end_date={year}-12-31T23:59&time_trunc=month\"\n",
    "    url_llamar = requests.get(url)\n",
    "    print (f\" la respuesta a la llamada fue {url_llamar.status_code}\")\n",
    "    red_json = url_llamar.json()\n",
    "    red_json\n",
    "    for i in red_json[\"included\"]:\n",
    "        tipo_energia = i[\"type\"]\n",
    "        tipo_generacion = i[\"attributes\"][\"type\"]\n",
    "        for elementos in i[\"attributes\"][\"values\"]:\n",
    "            fecha = elementos[\"datetime\"]\n",
    "            valor = elementos[\"value\"]\n",
    "        \n",
    "            dicc_mensual = {\"tipo_energia\": tipo_energia,\"tipo_generacion\": tipo_generacion,\"fecha\": fecha,\"valor\": valor}\n",
    "            dicc_red_anual.append(dicc_mensual)\n",
    "    #print(dicc_red_anual)\n",
    "for i in dicc_red_anual:\n",
    "    print(i)"
   ]
  },
  {
   "cell_type": "code",
   "execution_count": null,
   "metadata": {},
   "outputs": [],
   "source": [
    "df_dicc_red_anual = pd.DataFrame(dicc_red_anual)\n",
    "print(df_dicc_red_anual)"
   ]
  },
  {
   "cell_type": "markdown",
   "metadata": {},
   "source": [
    "Desarrollo del ejercicio hasta llegar a la resolución en celda 2"
   ]
  },
  {
   "cell_type": "code",
   "execution_count": null,
   "metadata": {},
   "outputs": [],
   "source": [
    "url =\"https://apidatos.ree.es/es/datos/generacion/estructura-generacion?start_date=2010-01-01T00:00&end_date=2010-12-31T23:59&time_trunc=month\"\n",
    "url_llamar = requests.get(url)\n",
    "print (f\" la respuesta a la llamada fue {url_llamar.status_code}\")"
   ]
  },
  {
   "cell_type": "code",
   "execution_count": null,
   "metadata": {},
   "outputs": [],
   "source": [
    "red_json = url_llamar.json()\n",
    "red_json\n",
    "print(red_json.keys())"
   ]
  },
  {
   "cell_type": "code",
   "execution_count": null,
   "metadata": {},
   "outputs": [],
   "source": [
    "for year in range(2010,2023):\n",
    "    url =f\"https://apidatos.ree.es/es/datos/generacion/estructura-generacion?start_date={year}-01-01T00:00&end_date={year}-12-31T23:59&time_trunc=month\"\n",
    "    print (url)"
   ]
  },
  {
   "cell_type": "code",
   "execution_count": null,
   "metadata": {},
   "outputs": [],
   "source": [
    "print(red_json[\"included\"])"
   ]
  },
  {
   "cell_type": "code",
   "execution_count": null,
   "metadata": {},
   "outputs": [],
   "source": [
    "print(red_json[\"included\"][0][\"type\"])"
   ]
  },
  {
   "cell_type": "code",
   "execution_count": null,
   "metadata": {},
   "outputs": [],
   "source": [
    "print(red_json[\"included\"][0][\"attributes\"])"
   ]
  },
  {
   "cell_type": "code",
   "execution_count": null,
   "metadata": {},
   "outputs": [],
   "source": [
    "print(red_json[\"included\"][0][\"attributes\"][\"type\"])"
   ]
  },
  {
   "cell_type": "code",
   "execution_count": null,
   "metadata": {},
   "outputs": [],
   "source": [
    "print(red_json[\"included\"][0][\"attributes\"][\"values\"])"
   ]
  },
  {
   "cell_type": "code",
   "execution_count": null,
   "metadata": {},
   "outputs": [],
   "source": [
    "print(red_json[\"included\"][0][\"attributes\"][\"values\"][0][\"datetime\"])"
   ]
  },
  {
   "cell_type": "code",
   "execution_count": null,
   "metadata": {},
   "outputs": [],
   "source": [
    "print(red_json[\"included\"][0][\"attributes\"][\"values\"][0][\"value\"])"
   ]
  },
  {
   "cell_type": "code",
   "execution_count": null,
   "metadata": {},
   "outputs": [],
   "source": [
    "dicc_red = []\n",
    "\n",
    "for i in red_json[\"included\"]:\n",
    "    \n",
    "    tipo_energia = i[\"type\"]\n",
    "    tipo_generacion = i[\"attributes\"][\"type\"]\n",
    "    for elementos in i[\"attributes\"][\"values\"]:\n",
    "        fecha = elementos[\"datetime\"]\n",
    "        valor = elementos[\"value\"]\n",
    "    \n",
    "        dicc_mensual = {\"tipo_energia\": tipo_energia,\"tipo_generacion\": tipo_generacion,\"fecha\": fecha,\"valor\": valor}\n",
    "        \n",
    "        dicc_red.append(dicc_mensual)\n",
    "        \n",
    "print(dicc_red)\n"
   ]
  },
  {
   "cell_type": "code",
   "execution_count": null,
   "metadata": {},
   "outputs": [],
   "source": [
    "df_dicc_red = pd.DataFrame(dicc_red)\n",
    "print(df_dicc_red)"
   ]
  },
  {
   "cell_type": "markdown",
   "metadata": {},
   "source": [
    "Ejercicio 2"
   ]
  },
  {
   "cell_type": "code",
   "execution_count": null,
   "metadata": {},
   "outputs": [],
   "source": [
    "cod_comunidades = {'Ceuta': 8744,\n",
    "                    'Melilla': 8745,\n",
    "                    'Andalucía': 4,\n",
    "                    'Aragón': 5,\n",
    "                    'Cantabria': 6,\n",
    "                    'Castilla - La Mancha': 7,\n",
    "                    'Castilla y León': 8,\n",
    "                    'Cataluña': 9,\n",
    "                    'País Vasco': 10,\n",
    "                    'Principado de Asturias': 11,\n",
    "                    'Comunidad de Madrid': 13,\n",
    "                    'Comunidad Foral de Navarra': 14,\n",
    "                    'Comunitat Valenciana': 15,\n",
    "                    'Extremadura': 16,\n",
    "                    'Galicia': 17,\n",
    "                    'Illes Balears': 8743,\n",
    "                    'Canarias': 8742,\n",
    "                    'Región de Murcia': 21,\n",
    "                    'La Rioja': 20}"
   ]
  },
  {
   "cell_type": "code",
   "execution_count": 52,
   "metadata": {},
   "outputs": [],
   "source": [
    "dicc_red_anual_comunidades = []\n",
    "\n",
    "for comunidad in cod_comunidades.values():\n",
    "    for year in range(2011,2023):\n",
    "    \n",
    "        url_com =f\"https://apidatos.ree.es/es/datos/generacion/estructura-generacion?geo_ids={comunidad}&start_date={year}-01-01T00:00&end_date={year}-12-31T23:59&time_trunc=month\"\n",
    "        url_com_llamar = requests.get(url_com)\n",
    "        #print (f\" la respuesta a la llamada fue {url_com_llamar.status_code}\")\n",
    "        red_com_json = url_com_llamar.json()\n",
    "        \n",
    "        try:\n",
    "            red_com_json[\"data\"]\n",
    "        except:\n",
    "            break\n",
    "        red_comunidades = red_com_json\n",
    "        for i in red_comunidades[\"included\"]:\n",
    "            tipo_energia = i[\"type\"]\n",
    "            tipo_generacion = i[\"attributes\"][\"type\"]\n",
    "            for elementos in i[\"attributes\"][\"values\"]:\n",
    "                fecha = elementos[\"datetime\"]\n",
    "                valor = elementos[\"value\"]\n",
    "                    \n",
    "        \n",
    "                dicc_mensual_comunidades = {\"tipo_energia\": tipo_energia,\"tipo_generacion\": tipo_generacion,\"fecha\": fecha,\"valor\": valor, \"ccaa\":comunidad}\n",
    "                dicc_red_anual_comunidades.append(dicc_mensual_comunidades)\n"
   ]
  },
  {
   "cell_type": "code",
   "execution_count": 53,
   "metadata": {},
   "outputs": [
    {
     "name": "stdout",
     "output_type": "stream",
     "text": [
      "          tipo_energia   tipo_generacion                          fecha  \\\n",
      "0       Motores diésel      No-Renovable  2011-01-01T00:00:00.000+01:00   \n",
      "1       Motores diésel      No-Renovable  2011-02-01T00:00:00.000+01:00   \n",
      "2       Motores diésel      No-Renovable  2011-03-01T00:00:00.000+01:00   \n",
      "3       Motores diésel      No-Renovable  2011-04-01T00:00:00.000+02:00   \n",
      "4       Motores diésel      No-Renovable  2011-05-01T00:00:00.000+02:00   \n",
      "...                ...               ...                            ...   \n",
      "4205  Generación total  Generación total  2022-08-01T00:00:00.000+02:00   \n",
      "4206  Generación total  Generación total  2022-09-01T00:00:00.000+02:00   \n",
      "4207  Generación total  Generación total  2022-10-01T00:00:00.000+02:00   \n",
      "4208  Generación total  Generación total  2022-11-01T00:00:00.000+01:00   \n",
      "4209  Generación total  Generación total  2022-12-01T00:00:00.000+01:00   \n",
      "\n",
      "           valor  ccaa  \n",
      "0      16727.395  8744  \n",
      "1      15216.784  8744  \n",
      "2      16429.358  8744  \n",
      "3      14974.756  8744  \n",
      "4      15951.381  8744  \n",
      "...          ...   ...  \n",
      "4205  757165.523  8742  \n",
      "4206  724223.765  8742  \n",
      "4207  728545.272  8742  \n",
      "4208  709228.553  8742  \n",
      "4209  718898.937  8742  \n",
      "\n",
      "[4210 rows x 5 columns]\n"
     ]
    }
   ],
   "source": [
    "df_dicc_red_anual_comunidades = pd.DataFrame(dicc_red_anual_comunidades)\n",
    "print(df_dicc_red_anual_comunidades)\n",
    "    "
   ]
  }
 ],
 "metadata": {
  "kernelspec": {
   "display_name": "Python 3",
   "language": "python",
   "name": "python3"
  },
  "language_info": {
   "codemirror_mode": {
    "name": "ipython",
    "version": 3
   },
   "file_extension": ".py",
   "mimetype": "text/x-python",
   "name": "python",
   "nbconvert_exporter": "python",
   "pygments_lexer": "ipython3",
   "version": "3.9.7"
  }
 },
 "nbformat": 4,
 "nbformat_minor": 2
}
